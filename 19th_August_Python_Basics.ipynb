{
 "cells": [
  {
   "cell_type": "code",
   "execution_count": 2,
   "id": "f4efb145-42a8-4abf-ab12-030af1f234b4",
   "metadata": {},
   "outputs": [
    {
     "name": "stdout",
     "output_type": "stream",
     "text": [
      "the value of a after swapping 15\n",
      "the value of b after swapping 10\n"
     ]
    }
   ],
   "source": [
    "# Topic python basic variable \n",
    "''' 1 Declare two variables, `x` and `y`, and assign them integer values. Swap the\n",
    "    values of these variables without using any temporary variable.'''\n",
    "\n",
    "a=10\n",
    "b=15\n",
    "a=a+b   #the value of a will updated to(updated_value_a)= a+b\n",
    "b=a-b   #value of b(updated_value_b) will be subtraction of updated_value_a and original_value_b \n",
    "a=a-b   #subratraction between updated_value_a and updated_value_b get stored in a \n",
    "print(\"the value of a after swapping\",a)\n",
    "print(\"the value of b after swapping\",b)\n"
   ]
  },
  {
   "cell_type": "code",
   "execution_count": 3,
   "id": "4d43d2c1-07e9-4f59-9484-8d30875a5705",
   "metadata": {},
   "outputs": [
    {
     "name": "stdin",
     "output_type": "stream",
     "text": [
      "enter the length 20\n",
      "enter the width 10\n"
     ]
    },
    {
     "name": "stdout",
     "output_type": "stream",
     "text": [
      "area of trainagle is  200\n"
     ]
    }
   ],
   "source": [
    "'''\n",
    "2)Create a program that calculates the area of a rectangle. Take the length and\n",
    "width as inputs from the user and store them in variables. Calculate and\n",
    "display the area.'''\n",
    "\n",
    "length=int(input(\"enter the length\"))\n",
    "width=int(input(\"enter the width\"))\n",
    "area= length*width\n",
    "print(\"area of trainagle is \",area)\n",
    "\n"
   ]
  },
  {
   "cell_type": "code",
   "execution_count": 4,
   "id": "1f2f3260-52b5-4ff5-b533-434f7c44cd21",
   "metadata": {},
   "outputs": [
    {
     "name": "stdin",
     "output_type": "stream",
     "text": [
      "enter the temperature in celsius 25\n"
     ]
    },
    {
     "name": "stdout",
     "output_type": "stream",
     "text": [
      "after converion of temperature from celsuis to farenheit 77.0\n"
     ]
    }
   ],
   "source": [
    "'''\n",
    "3)Write a Python program that converts temperatures from Celsius to\n",
    "Fahrenheit. Take the temperature in Celsius as input, store it in a variable,\n",
    "convert it to Fahrenheit, and display the result.'''\n",
    "\n",
    "celsuis=float(input(\"enter the temperature in celsius\"))\n",
    "fahrenheit=(celsuis * 9/5) + 32 \n",
    "print(\"after converion of temperature from celsuis to farenheit\",fahrenheit)"
   ]
  },
  {
   "cell_type": "code",
   "execution_count": 5,
   "id": "70df1e3f-b95c-425d-818e-7e4187116640",
   "metadata": {},
   "outputs": [
    {
     "name": "stdin",
     "output_type": "stream",
     "text": [
      "enter the string krishna shingala\n"
     ]
    },
    {
     "name": "stdout",
     "output_type": "stream",
     "text": [
      "length of the string is 16\n"
     ]
    }
   ],
   "source": [
    "#TOPIC: String Based Questions\n",
    "\n",
    "'''\n",
    "1. Write a Python program that takes a string as input and prints the length of\n",
    "the string.'''\n",
    "l=input(\"enter the string\")\n",
    "print(\"length of the string is\", len(l))\n"
   ]
  },
  {
   "cell_type": "code",
   "execution_count": 8,
   "id": "979ad688-284c-4cd8-a294-462e98575d0a",
   "metadata": {},
   "outputs": [
    {
     "name": "stdin",
     "output_type": "stream",
     "text": [
      "enter the sentence krishna is cool\n"
     ]
    },
    {
     "name": "stdout",
     "output_type": "stream",
     "text": [
      "number of vowels in the given sentence 5\n"
     ]
    }
   ],
   "source": [
    "'''\n",
    "2. Create a program that takes a sentence from the user and counts the number\n",
    "of vowels (a, e, i, o, u) in the string.'''\n",
    "\n",
    "k=input(\"enter the sentence\")\n",
    "count=0\n",
    "i=0\n",
    "for i in range(len(k)) :\n",
    "      if(k[i]=='a'or k[i]=='e' or k[i]=='i' or k[i]=='o' or k[i]=='u'):\n",
    "        count=count+1\n",
    "        i=i+1\n",
    "print(\"number of vowels in the given sentence\", count)\n"
   ]
  },
  {
   "cell_type": "code",
   "execution_count": 1,
   "id": "20d0f25b-9d71-4900-b26f-78d93450219d",
   "metadata": {},
   "outputs": [
    {
     "name": "stdin",
     "output_type": "stream",
     "text": [
      "enter the sentence pwskills\n"
     ]
    },
    {
     "name": "stdout",
     "output_type": "stream",
     "text": [
      "reversed string is sllikswp\n"
     ]
    }
   ],
   "source": [
    "'''\n",
    "3.Given a string, reverse the order of characters using string slicing and print\n",
    "the reversed string.'''\n",
    "\n",
    "c=input(\"enter the sentence\")\n",
    "print(\"reversed string is\",c[: :-1])"
   ]
  },
  {
   "cell_type": "code",
   "execution_count": 8,
   "id": "931539d5-216e-49b7-9dbd-f41ba84e00e1",
   "metadata": {},
   "outputs": [
    {
     "name": "stdin",
     "output_type": "stream",
     "text": [
      "enter the string kriirk\n"
     ]
    },
    {
     "name": "stdout",
     "output_type": "stream",
     "text": [
      "given string is palindrome\n"
     ]
    }
   ],
   "source": [
    "'''\n",
    "4. Write a program that takes a string as input and checks if it is a palindrome\n",
    "(reads the same forwards and backwards).'''\n",
    "\n",
    "z=input(\"enter the string\")\n",
    "y=z[len(z): : -1]\n",
    "if(z==y):\n",
    "    print(\"given string is palindrome\")\n",
    "else:\n",
    "    print(\"given string is not palindrome\")\n",
    "\n",
    "\n"
   ]
  },
  {
   "cell_type": "code",
   "execution_count": 2,
   "id": "a2d70f13-b1ba-4c33-98aa-7f1ce9dad462",
   "metadata": {},
   "outputs": [
    {
     "name": "stdin",
     "output_type": "stream",
     "text": [
      "enter the string krishna shi n g a la \n"
     ]
    },
    {
     "name": "stdout",
     "output_type": "stream",
     "text": [
      " krishnashingala\n"
     ]
    }
   ],
   "source": [
    "\n",
    "'''5. Create a program that takes a string as input and removes all the spaces from\n",
    "it. Print the modified string without spaces.'''\n",
    "\n",
    "input_string=input(\"enter the string\")\n",
    "new_string=\" \"\n",
    "for char in input_string:\n",
    "    if(char!=\" \"):\n",
    "        new_string=new_string+ char\n",
    "print(new_string)\n",
    "   "
   ]
  },
  {
   "cell_type": "code",
   "execution_count": null,
   "id": "1d19f4e0-4387-4a06-98a4-cef94c61f330",
   "metadata": {},
   "outputs": [],
   "source": []
  }
 ],
 "metadata": {
  "kernelspec": {
   "display_name": "Python 3 (ipykernel)",
   "language": "python",
   "name": "python3"
  },
  "language_info": {
   "codemirror_mode": {
    "name": "ipython",
    "version": 3
   },
   "file_extension": ".py",
   "mimetype": "text/x-python",
   "name": "python",
   "nbconvert_exporter": "python",
   "pygments_lexer": "ipython3",
   "version": "3.10.8"
  }
 },
 "nbformat": 4,
 "nbformat_minor": 5
}
